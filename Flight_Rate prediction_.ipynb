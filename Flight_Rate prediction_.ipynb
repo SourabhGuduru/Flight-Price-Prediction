{
 "cells": [
  {
   "cell_type": "code",
   "execution_count": null,
   "id": "ceaa7d3a",
   "metadata": {},
   "outputs": [],
   "source": [
    "import pandas as pd\n",
    "import numpy as np\n",
    "import seaborn as sns\n",
    "import matplotlib.pyplot as plt\n",
    "import warnings\n",
    "warnings.filterwarnings(\"ignore\")"
   ]
  },
  {
   "cell_type": "code",
   "execution_count": null,
   "id": "000bef47",
   "metadata": {},
   "outputs": [],
   "source": [
    "df_train=pd.read_excel('Data_Train.xlsx')\n",
    "df_test=pd.read_excel('Test_set.xlsx')\n",
    "\n",
    "df= pd.concat([df_train,df_test], axis=0)"
   ]
  },
  {
   "cell_type": "code",
   "execution_count": null,
   "id": "296525ad",
   "metadata": {},
   "outputs": [],
   "source": [
    "df"
   ]
  },
  {
   "cell_type": "code",
   "execution_count": null,
   "id": "a4a1bd33",
   "metadata": {},
   "outputs": [],
   "source": [
    "# Null values\n",
    "\n",
    "df.isnull().sum()"
   ]
  },
  {
   "cell_type": "code",
   "execution_count": null,
   "id": "44a3fe7f",
   "metadata": {},
   "outputs": [],
   "source": [
    "# Dropping null values \n",
    "df.dropna(inplace=True)\n",
    "df.isnull().sum()"
   ]
  },
  {
   "cell_type": "code",
   "execution_count": null,
   "id": "f3b09b5b",
   "metadata": {},
   "outputs": [],
   "source": [
    "df.shape"
   ]
  },
  {
   "cell_type": "code",
   "execution_count": null,
   "id": "9927ea47",
   "metadata": {},
   "outputs": [],
   "source": [
    "df['Source'].value_counts()\n"
   ]
  },
  {
   "cell_type": "code",
   "execution_count": null,
   "id": "dce1b31d",
   "metadata": {},
   "outputs": [],
   "source": [
    "sns.catplot(x='Source',y='Price',data=df.sort_values('Price'),kind=\"boxen\")\n",
    "plt.show()"
   ]
  },
  {
   "cell_type": "code",
   "execution_count": null,
   "id": "c919cfc5",
   "metadata": {},
   "outputs": [],
   "source": [
    "# Checking average price for source \n",
    "\n",
    "mean_prices=df.groupby('Source')['Price'].mean().reset_index()\n",
    "\n",
    "print(mean_prices)\n",
    "my_colors = [\"#5B84B1\", \"#A8C4E2\", \"#FFC857\", \"#ED7953\", \"#BC243C\"]\n",
    "\n",
    "ax=sns.barplot(x='Source',y='Price',data=mean_prices,palette=my_colors)\n",
    "\n",
    "for index, row in mean_prices.iterrows():\n",
    "    ax.text(row.name, row.Price, round(row.Price,2), color='black',ha='center')\n",
    "\n",
    "\n",
    "ax.set_xlabel('Source')\n",
    "ax.set_ylabel('Mean Price')\n",
    "plt.xticks(rotation=90)\n",
    "ax.set_title('Mean Price by Source')\n",
    "plt.show()"
   ]
  },
  {
   "cell_type": "code",
   "execution_count": null,
   "id": "816498fc",
   "metadata": {},
   "outputs": [],
   "source": [
    "# Prices variation based on Airline\n",
    "\n",
    "df.groupby('Airline')['Price'].mean().reset_index()"
   ]
  },
  {
   "cell_type": "code",
   "execution_count": null,
   "id": "e41fb9ff",
   "metadata": {},
   "outputs": [],
   "source": [
    "mean_prices=df.groupby('Airline')['Price'].mean().reset_index()\n",
    "\n",
    "plt.figure(figsize=(12,6))\n",
    "ax=sns.barplot(x='Airline',y='Price',data=mean_prices)\n",
    "\n",
    "for index, row in mean_prices.iterrows():\n",
    "    ax.text(row.name, row.Price, round(row.Price,2), color='black',ha='center')\n",
    "    \n",
    "plt.xticks(rotation=90)\n",
    "ax.set_xlabel('Airline')\n",
    "ax.set_ylabel('Mean Price')\n",
    "ax.set_title('Mean Price by Airlines')"
   ]
  },
  {
   "cell_type": "markdown",
   "id": "78494fe6",
   "metadata": {},
   "source": [
    "**Feature Engineering**"
   ]
  },
  {
   "cell_type": "code",
   "execution_count": null,
   "id": "df9020cb",
   "metadata": {},
   "outputs": [],
   "source": [
    "df"
   ]
  },
  {
   "cell_type": "code",
   "execution_count": null,
   "id": "1bcde88c",
   "metadata": {},
   "outputs": [],
   "source": [
    "df['Day']=pd.to_datetime(df['Date_of_Journey']).dt.day\n",
    "df['Month']=pd.to_datetime(df['Date_of_Journey']).dt.month\n",
    "df['Year']=pd.to_datetime(df['Date_of_Journey']).dt.year\n",
    "df['Departure_hour']=pd.to_datetime(df['Dep_Time']).dt.hour\n",
    "df['Departure_Minute']=pd.to_datetime(df['Dep_Time']).dt.minute"
   ]
  },
  {
   "cell_type": "code",
   "execution_count": null,
   "id": "ceb18c38",
   "metadata": {},
   "outputs": [],
   "source": [
    "df.drop('Date_of_Journey',axis=1,inplace=True)\n",
    "df.drop('Route',axis=1,inplace=True)\n",
    "df.drop('Dep_Time',axis=1,inplace=True)\n",
    "df"
   ]
  },
  {
   "cell_type": "code",
   "execution_count": null,
   "id": "d556e5e0",
   "metadata": {},
   "outputs": [],
   "source": [
    "# Break down the arrival time\n",
    "# take after 6 as nyt\n",
    "# take between 5-10 as morning\n",
    "# 10-6 as afternoon\n",
    "# Saturday and sunday as weekend"
   ]
  },
  {
   "cell_type": "code",
   "execution_count": null,
   "id": "0afda073",
   "metadata": {},
   "outputs": [],
   "source": [
    "df.drop('Arrival_Time',axis=1,inplace=True)\n",
    "df"
   ]
  },
  {
   "cell_type": "code",
   "execution_count": null,
   "id": "96912be2",
   "metadata": {},
   "outputs": [],
   "source": [
    "# Effect of total stops on the price\n",
    "\n",
    "stops_mean=df.groupby('Total_Stops')['Price'].mean().reset_index()\n",
    "stops_mean"
   ]
  },
  {
   "cell_type": "code",
   "execution_count": null,
   "id": "96205b18",
   "metadata": {},
   "outputs": [],
   "source": [
    "Stops_mean=df.groupby('Total_Stops')['Price'].mean().reset_index()\n",
    "\n",
    "colors = [\"#1f77b4\", \"#2ca02c\", \"#d62728\", \"#9467bd\", \"#ff7f0e\"]\n",
    "ax=sns.barplot(x='Total_Stops',y='Price',data=Stops_mean,palette=colors)\n",
    "for index, row in Stops_mean.iterrows():\n",
    "    ax.text(row.name, row.Price, round(row.Price,2), color='black',ha='center')\n",
    "    \n",
    "\n",
    "plt.xticks(rotation=90)\n",
    "ax.set_xlabel('Total_Stops')\n",
    "ax.set_ylabel('Mean Price')\n",
    "ax.set_title('Mean Price by Stops')"
   ]
  },
  {
   "cell_type": "code",
   "execution_count": null,
   "id": "779dc13d",
   "metadata": {},
   "outputs": [],
   "source": [
    "# dividing data in Morning Afternoon Evening Night\n",
    "\n",
    "# Morning 6-11:59\n",
    "# Afternoon 12-17:59\n",
    "# Evening 18-23:59\n",
    "# Night 00:00-5:59\n",
    "\n",
    "df"
   ]
  },
  {
   "cell_type": "code",
   "execution_count": null,
   "id": "691d141e",
   "metadata": {},
   "outputs": [],
   "source": [
    "def get_time_of_day(hour):\n",
    "    if hour < 6:\n",
    "        return 'Night'\n",
    "    elif hour < 12:\n",
    "        return 'Morning'\n",
    "    elif hour < 18:\n",
    "        return 'Afternoon'\n",
    "    elif hour < 24:\n",
    "        return 'Evening'\n",
    "    else:\n",
    "        return 'Unknown'\n",
    "\n",
    "\n",
    "df['time_of_day'] = df.apply(lambda a: get_time_of_day(a['Departure_hour']), axis=1)\n",
    "df"
   ]
  },
  {
   "cell_type": "code",
   "execution_count": null,
   "id": "ddc1aa07",
   "metadata": {},
   "outputs": [],
   "source": [
    "# Checking price wrt to time_of_day\n",
    "\n",
    "time_of_day=df.groupby('time_of_day')['Price'].mean().reset_index()\n",
    "\n",
    "colors = [\"#1f77b4\", \"#2ca02c\", \"#d62728\", \"#9467bd\"]\n",
    "ax=sns.barplot(x='time_of_day',y='Price',data=time_of_day,palette=colors)\n",
    "\n",
    "for index, row in time_of_day.iterrows():\n",
    "    ax.text(row.name, row.Price, round(row.Price,2), color='black',ha='center')\n",
    "    \n",
    "\n",
    "plt.xticks(rotation=90)\n",
    "ax.set_xlabel('Time_of_day')\n",
    "ax.set_ylabel('Mean Price')\n",
    "ax.set_title('Mean Price by Time of Day');\n"
   ]
  },
  {
   "cell_type": "code",
   "execution_count": null,
   "id": "933dec91",
   "metadata": {},
   "outputs": [],
   "source": [
    "# Determining the Day of the week\n",
    "df['date']=pd.to_datetime(df[['Day','Month','Year']])\n",
    "\n",
    "df['day_of_week'] = df['date'].dt.day_name()\n",
    "\n",
    "df.drop('date',axis=1,inplace=True)\n",
    "df\n"
   ]
  },
  {
   "cell_type": "code",
   "execution_count": null,
   "id": "6b958381",
   "metadata": {},
   "outputs": [],
   "source": [
    "day=df.groupby('day_of_week')['Price'].mean().reset_index()\n",
    "\n",
    "print(day)\n",
    "\n",
    "colors = [\"#FFC300\", \"#FF5733\", \"#C70039\", \"#900C3F\", \"#581845\", \"#0A8F08\", \"#08718F\"]\n",
    "\n",
    "ax=sns.barplot(x='day_of_week',y='Price',data=day,palette=colors)\n",
    "\n",
    "for index, row in day.iterrows():\n",
    "    ax.text(row.name, row.Price, round(row.Price,2), color='black',ha='center')\n",
    "    \n",
    "plt.xticks(rotation=90)\n",
    "ax.set_xlabel('Day of week ')\n",
    "ax.set_ylabel('Mean Price')\n",
    "ax.set_title('Mean Price by Days of Week')\n"
   ]
  },
  {
   "cell_type": "code",
   "execution_count": null,
   "id": "bad76663",
   "metadata": {
    "scrolled": true
   },
   "outputs": [],
   "source": [
    "from pivottablejs import pivot_ui\n",
    "\n",
    "pivot_ui(df)"
   ]
  },
  {
   "cell_type": "code",
   "execution_count": null,
   "id": "29dd05ef",
   "metadata": {},
   "outputs": [],
   "source": [
    "df.drop(['Duration','Additional_Info'],axis=1,inplace=True)"
   ]
  },
  {
   "cell_type": "code",
   "execution_count": null,
   "id": "31da9146",
   "metadata": {},
   "outputs": [],
   "source": [
    "df"
   ]
  },
  {
   "cell_type": "code",
   "execution_count": null,
   "id": "a1a86d9a",
   "metadata": {},
   "outputs": [],
   "source": [
    "sns.heatmap(df.corr(),annot=True,fmt='.2g')"
   ]
  },
  {
   "cell_type": "code",
   "execution_count": null,
   "id": "bfd30d43",
   "metadata": {},
   "outputs": [],
   "source": [
    "df=pd.get_dummies(df,drop_first=True)\n"
   ]
  },
  {
   "cell_type": "code",
   "execution_count": null,
   "id": "5273808c",
   "metadata": {},
   "outputs": [],
   "source": [
    "df"
   ]
  },
  {
   "cell_type": "code",
   "execution_count": null,
   "id": "4e963531",
   "metadata": {},
   "outputs": [],
   "source": [
    "# Building model\n",
    "# Random Forest is Used"
   ]
  },
  {
   "cell_type": "code",
   "execution_count": null,
   "id": "5d4b5e06",
   "metadata": {},
   "outputs": [],
   "source": [
    "from sklearn.ensemble import RandomForestRegressor\n",
    "from sklearn.model_selection import train_test_split\n",
    "from sklearn.metrics import r2_score"
   ]
  },
  {
   "cell_type": "code",
   "execution_count": null,
   "id": "79cad7b0",
   "metadata": {},
   "outputs": [],
   "source": [
    "X=df.iloc[:,1:]\n",
    "Y=df.iloc[:,0]\n",
    "\n",
    "X_train,X_test,y_train,y_test=train_test_split(X,Y,test_size=0.3,random_state=12)"
   ]
  },
  {
   "cell_type": "code",
   "execution_count": null,
   "id": "6c8f7bfb",
   "metadata": {},
   "outputs": [],
   "source": [
    "regressor= RandomForestRegressor()\n",
    "regressor.fit(X_train, y_train)"
   ]
  },
  {
   "cell_type": "code",
   "execution_count": null,
   "id": "d7ac81a6",
   "metadata": {},
   "outputs": [],
   "source": [
    "from sklearn.metrics import r2_score\n",
    "y_pred = regressor.predict(X_test)\n",
    "\n",
    "# compute the accuracy score\n",
    "r2 = r2_score(y_test, y_pred)\n",
    "print(f'R_2 score is {r2*100:1.3f}')"
   ]
  },
  {
   "cell_type": "code",
   "execution_count": null,
   "id": "074a8956",
   "metadata": {},
   "outputs": [],
   "source": [
    "# Checking out the feature importance\n",
    "\n",
    "sns.distplot(y_test-y_pred)\n",
    "plt.show()"
   ]
  },
  {
   "cell_type": "code",
   "execution_count": null,
   "id": "9f1100e1",
   "metadata": {},
   "outputs": [],
   "source": [
    "from sklearn.ensemble import ExtraTreesRegressor\n",
    "importance = ExtraTreesRegressor()\n",
    "importance.fit(X, Y)"
   ]
  },
  {
   "cell_type": "code",
   "execution_count": null,
   "id": "3276fe9d",
   "metadata": {},
   "outputs": [],
   "source": [
    "feature_importances = pd.Series(importance.feature_importances_, index=X.columns)\n",
    "feature_importances.nlargest(20).plot(kind='barh')\n",
    "plt.title('Feature Importance')\n",
    "plt.show()"
   ]
  },
  {
   "cell_type": "markdown",
   "id": "244762f5",
   "metadata": {},
   "source": [
    "# Converting into Pickel file"
   ]
  },
  {
   "cell_type": "code",
   "execution_count": null,
   "id": "6dfb49f2",
   "metadata": {},
   "outputs": [],
   "source": [
    "import pickle\n"
   ]
  },
  {
   "cell_type": "code",
   "execution_count": null,
   "id": "e3d52446",
   "metadata": {},
   "outputs": [],
   "source": [
    "pickle.dump(regressor,open('farepredictor.pkl','wb'))"
   ]
  },
  {
   "cell_type": "code",
   "execution_count": null,
   "id": "e30dd403",
   "metadata": {},
   "outputs": [],
   "source": [
    "pickled_model=pickle.load(open('farepredictor.pkl','rb'))"
   ]
  },
  {
   "cell_type": "code",
   "execution_count": null,
   "id": "2ac47e91",
   "metadata": {},
   "outputs": [],
   "source": [
    "X_train.iloc[1,:]"
   ]
  },
  {
   "cell_type": "code",
   "execution_count": null,
   "id": "38092a2a",
   "metadata": {},
   "outputs": [],
   "source": [
    "import xesmf as xe"
   ]
  },
  {
   "cell_type": "code",
   "execution_count": 1,
   "id": "bc20cf8e",
   "metadata": {},
   "outputs": [
    {
     "name": "stdout",
     "output_type": "stream",
     "text": [
      "\n",
      "Note: you may need to restart the kernel to use updated packages.\n"
     ]
    }
   ],
   "source": [
    "conda install -c conda-forge xesmf"
   ]
  },
  {
   "cell_type": "code",
   "execution_count": 2,
   "id": "de433994",
   "metadata": {},
   "outputs": [
    {
     "name": "stderr",
     "output_type": "stream",
     "text": [
      "C:\\Users\\sou09\\anaconda3\\lib\\site-packages\\numpy\\_distributor_init.py:30: UserWarning: loaded more than 1 DLL from .libs:\n",
      "C:\\Users\\sou09\\anaconda3\\lib\\site-packages\\numpy\\.libs\\libopenblas.XWYDX2IKJW2NMTWSFYNGFUWKQU3LYTCZ.gfortran-win_amd64.dll\n",
      "C:\\Users\\sou09\\anaconda3\\lib\\site-packages\\numpy\\.libs\\libopenblas64__v0.3.23-246-g3d31191b-gcc_10_3_0.dll\n",
      "  warnings.warn(\"loaded more than 1 DLL from .libs:\"\n"
     ]
    },
    {
     "ename": "ModuleNotFoundError",
     "evalue": "No module named 'ESMF'",
     "output_type": "error",
     "traceback": [
      "\u001b[1;31m---------------------------------------------------------------------------\u001b[0m",
      "\u001b[1;31mModuleNotFoundError\u001b[0m                       Traceback (most recent call last)",
      "File \u001b[1;32m~\\anaconda3\\lib\\site-packages\\xesmf\\backend.py:22\u001b[0m\n\u001b[0;32m     21\u001b[0m \u001b[38;5;28;01mtry\u001b[39;00m:\n\u001b[1;32m---> 22\u001b[0m     \u001b[38;5;28;01mimport\u001b[39;00m \u001b[38;5;21;01mesmpy\u001b[39;00m \u001b[38;5;28;01mas\u001b[39;00m \u001b[38;5;21;01mESMF\u001b[39;00m\n\u001b[0;32m     23\u001b[0m \u001b[38;5;28;01mexcept\u001b[39;00m \u001b[38;5;167;01mImportError\u001b[39;00m:\n",
      "\u001b[1;31mModuleNotFoundError\u001b[0m: No module named 'esmpy'",
      "\nDuring handling of the above exception, another exception occurred:\n",
      "\u001b[1;31mModuleNotFoundError\u001b[0m                       Traceback (most recent call last)",
      "Cell \u001b[1;32mIn[2], line 1\u001b[0m\n\u001b[1;32m----> 1\u001b[0m \u001b[38;5;28;01mimport\u001b[39;00m \u001b[38;5;21;01mxesmf\u001b[39;00m \u001b[38;5;28;01mas\u001b[39;00m \u001b[38;5;21;01mxe\u001b[39;00m\n",
      "File \u001b[1;32m~\\anaconda3\\lib\\site-packages\\xesmf\\__init__.py:4\u001b[0m\n\u001b[0;32m      1\u001b[0m \u001b[38;5;66;03m# flake8: noqa\u001b[39;00m\n\u001b[0;32m      3\u001b[0m \u001b[38;5;28;01mfrom\u001b[39;00m \u001b[38;5;21;01m.\u001b[39;00m \u001b[38;5;28;01mimport\u001b[39;00m data, util\n\u001b[1;32m----> 4\u001b[0m \u001b[38;5;28;01mfrom\u001b[39;00m \u001b[38;5;21;01m.\u001b[39;00m\u001b[38;5;21;01mfrontend\u001b[39;00m \u001b[38;5;28;01mimport\u001b[39;00m Regridder, SpatialAverager\n\u001b[0;32m      6\u001b[0m \u001b[38;5;28;01mtry\u001b[39;00m:\n\u001b[0;32m      7\u001b[0m     \u001b[38;5;28;01mfrom\u001b[39;00m \u001b[38;5;21;01m.\u001b[39;00m\u001b[38;5;21;01m_version\u001b[39;00m \u001b[38;5;28;01mimport\u001b[39;00m __version__\n",
      "File \u001b[1;32m~\\anaconda3\\lib\\site-packages\\xesmf\\frontend.py:12\u001b[0m\n\u001b[0;32m      9\u001b[0m \u001b[38;5;28;01mimport\u001b[39;00m \u001b[38;5;21;01mxarray\u001b[39;00m \u001b[38;5;28;01mas\u001b[39;00m \u001b[38;5;21;01mxr\u001b[39;00m\n\u001b[0;32m     10\u001b[0m \u001b[38;5;28;01mfrom\u001b[39;00m \u001b[38;5;21;01mxarray\u001b[39;00m \u001b[38;5;28;01mimport\u001b[39;00m DataArray, Dataset\n\u001b[1;32m---> 12\u001b[0m \u001b[38;5;28;01mfrom\u001b[39;00m \u001b[38;5;21;01m.\u001b[39;00m\u001b[38;5;21;01mbackend\u001b[39;00m \u001b[38;5;28;01mimport\u001b[39;00m Grid, LocStream, Mesh, add_corner, esmf_regrid_build, esmf_regrid_finalize\n\u001b[0;32m     13\u001b[0m \u001b[38;5;28;01mfrom\u001b[39;00m \u001b[38;5;21;01m.\u001b[39;00m\u001b[38;5;21;01msmm\u001b[39;00m \u001b[38;5;28;01mimport\u001b[39;00m (\n\u001b[0;32m     14\u001b[0m     _combine_weight_multipoly,\n\u001b[0;32m     15\u001b[0m     _parse_coords_and_values,\n\u001b[1;32m   (...)\u001b[0m\n\u001b[0;32m     19\u001b[0m     read_weights,\n\u001b[0;32m     20\u001b[0m )\n\u001b[0;32m     21\u001b[0m \u001b[38;5;28;01mfrom\u001b[39;00m \u001b[38;5;21;01m.\u001b[39;00m\u001b[38;5;21;01mutil\u001b[39;00m \u001b[38;5;28;01mimport\u001b[39;00m LAT_CF_ATTRS, LON_CF_ATTRS, split_polygons_and_holes\n",
      "File \u001b[1;32m~\\anaconda3\\lib\\site-packages\\xesmf\\backend.py:24\u001b[0m\n\u001b[0;32m     22\u001b[0m     \u001b[38;5;28;01mimport\u001b[39;00m \u001b[38;5;21;01mesmpy\u001b[39;00m \u001b[38;5;28;01mas\u001b[39;00m \u001b[38;5;21;01mESMF\u001b[39;00m\n\u001b[0;32m     23\u001b[0m \u001b[38;5;28;01mexcept\u001b[39;00m \u001b[38;5;167;01mImportError\u001b[39;00m:\n\u001b[1;32m---> 24\u001b[0m     \u001b[38;5;28;01mimport\u001b[39;00m \u001b[38;5;21;01mESMF\u001b[39;00m\n\u001b[0;32m     25\u001b[0m \u001b[38;5;28;01mimport\u001b[39;00m \u001b[38;5;21;01mnumpy\u001b[39;00m \u001b[38;5;28;01mas\u001b[39;00m \u001b[38;5;21;01mnp\u001b[39;00m\n\u001b[0;32m     26\u001b[0m \u001b[38;5;28;01mimport\u001b[39;00m \u001b[38;5;21;01mnumpy\u001b[39;00m\u001b[38;5;21;01m.\u001b[39;00m\u001b[38;5;21;01mlib\u001b[39;00m\u001b[38;5;21;01m.\u001b[39;00m\u001b[38;5;21;01mrecfunctions\u001b[39;00m \u001b[38;5;28;01mas\u001b[39;00m \u001b[38;5;21;01mnprec\u001b[39;00m\n",
      "\u001b[1;31mModuleNotFoundError\u001b[0m: No module named 'ESMF'"
     ]
    }
   ],
   "source": [
    "import xesmf as xe"
   ]
  },
  {
   "cell_type": "code",
   "execution_count": null,
   "id": "abc95828",
   "metadata": {},
   "outputs": [],
   "source": []
  }
 ],
 "metadata": {
  "kernelspec": {
   "display_name": "Python 3 (ipykernel)",
   "language": "python",
   "name": "python3"
  },
  "language_info": {
   "codemirror_mode": {
    "name": "ipython",
    "version": 3
   },
   "file_extension": ".py",
   "mimetype": "text/x-python",
   "name": "python",
   "nbconvert_exporter": "python",
   "pygments_lexer": "ipython3",
   "version": "3.9.13"
  }
 },
 "nbformat": 4,
 "nbformat_minor": 5
}
